{
 "cells": [
  {
   "cell_type": "code",
   "execution_count": 3,
   "metadata": {},
   "outputs": [
    {
     "name": "stdout",
     "output_type": "stream",
     "text": [
      "2.2.0+cu118\n"
     ]
    }
   ],
   "source": [
    "import torch\n",
    "from ultralytics import YOLO\n",
    "import os\n"
   ]
  },
  {
   "cell_type": "code",
   "execution_count": null,
   "metadata": {},
   "outputs": [],
   "source": [
    "source = r''\n",
    "model_path = r'G:\\Project\\Medival_detector\\runs\\detect\\sword_yolo11s\\weights\\best.pt'"
   ]
  },
  {
   "cell_type": "code",
   "execution_count": 9,
   "metadata": {},
   "outputs": [
    {
     "name": "stdout",
     "output_type": "stream",
     "text": [
      "True\n",
      "G:\\Project\\Medival_detector\\runs\\detect\\sword_yolo11s\\weights\\best.pt\n",
      "\n",
      "image 1/1 G:\\Project\\Medival_detector\\notebooks\\photo1602128869756-16021288700351354614720.jpg: 416x640 2 sticks, 137.9ms\n",
      "Speed: 2.5ms preprocess, 137.9ms inference, 1.5ms postprocess per image at shape (1, 3, 416, 640)\n",
      "Results saved to \u001b[1mruns\\detect\\predict11\u001b[0m\n"
     ]
    }
   ],
   "source": [
    "model = YOLO(model_path)\n",
    "results = model(source=source, conf=0.25,save=True)"
   ]
  }
 ],
 "metadata": {
  "kernelspec": {
   "display_name": "env",
   "language": "python",
   "name": "python3"
  },
  "language_info": {
   "codemirror_mode": {
    "name": "ipython",
    "version": 3
   },
   "file_extension": ".py",
   "mimetype": "text/x-python",
   "name": "python",
   "nbconvert_exporter": "python",
   "pygments_lexer": "ipython3",
   "version": "3.10.11"
  }
 },
 "nbformat": 4,
 "nbformat_minor": 2
}
